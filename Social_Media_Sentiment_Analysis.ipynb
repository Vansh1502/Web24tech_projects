{
  "nbformat": 4,
  "nbformat_minor": 0,
  "metadata": {
    "colab": {
      "provenance": []
    },
    "kernelspec": {
      "name": "python3",
      "display_name": "Python 3"
    },
    "language_info": {
      "name": "python"
    }
  },
  "cells": [
    {
      "cell_type": "code",
      "execution_count": 1,
      "metadata": {
        "colab": {
          "base_uri": "https://localhost:8080/"
        },
        "id": "dO_EeJlK6OAD",
        "outputId": "6728f7e9-40af-479b-fe11-b3364f7d0c70"
      },
      "outputs": [
        {
          "output_type": "stream",
          "name": "stdout",
          "text": [
            "Requirement already satisfied: textblob in /usr/local/lib/python3.10/dist-packages (0.17.1)\n",
            "Requirement already satisfied: nltk>=3.1 in /usr/local/lib/python3.10/dist-packages (from textblob) (3.8.1)\n",
            "Requirement already satisfied: click in /usr/local/lib/python3.10/dist-packages (from nltk>=3.1->textblob) (8.1.7)\n",
            "Requirement already satisfied: joblib in /usr/local/lib/python3.10/dist-packages (from nltk>=3.1->textblob) (1.4.2)\n",
            "Requirement already satisfied: regex>=2021.8.3 in /usr/local/lib/python3.10/dist-packages (from nltk>=3.1->textblob) (2024.5.15)\n",
            "Requirement already satisfied: tqdm in /usr/local/lib/python3.10/dist-packages (from nltk>=3.1->textblob) (4.66.5)\n"
          ]
        }
      ],
      "source": [
        "!pip install textblob"
      ]
    },
    {
      "cell_type": "code",
      "source": [
        "from textblob import TextBlob"
      ],
      "metadata": {
        "id": "ZkGW-hKd6WdV"
      },
      "execution_count": 2,
      "outputs": []
    },
    {
      "cell_type": "code",
      "source": [
        "def analyze_sentiment(text):\n",
        "    blob = TextBlob(text)\n",
        "    sentiment = blob.sentiment\n",
        "    return sentiment.polarity, sentiment.subjectivity\n",
        "\n",
        "with open('/content/texts.txt', 'r') as file:\n",
        "    texts = file.readlines()\n",
        "    print(texts)\n",
        "with open('/content/results.txt', 'w') as file:\n",
        "    for text in texts:\n",
        "        text = text.strip()\n",
        "        if text:\n",
        "            polarity, subjectivity = analyze_sentiment(text)\n",
        "            sentiment = \"Positive\" if polarity > 0 else \"Negative\" if polarity < 0 else \"Neutral\"\n",
        "            result = f\"Text: {text}\\nSentiment: {sentiment} (Polarity: {polarity}, Subjectivity: {subjectivity})\\n\\n\"\n",
        "            file.write(result)\n",
        "\n",
        "print(\"Sentiment analysis complete. Results saved to '/content/results.txt'.\")"
      ],
      "metadata": {
        "colab": {
          "base_uri": "https://localhost:8080/"
        },
        "id": "DlWy6gUo6hNj",
        "outputId": "39886b31-f79e-4f98-bc65-3e8da1993be0"
      },
      "execution_count": 5,
      "outputs": [
        {
          "output_type": "stream",
          "name": "stdout",
          "text": [
            "[\"I love this product! It's amazing.\\n\", 'This is the worst service I have ever received.\\n', \"I'm not sure how I feel about this.\\n\", 'Absolutely fantastic experience!\\n', 'It was okay, nothing special.\\n']\n",
            "Sentiment analysis complete. Results saved to '/content/results.txt'.\n"
          ]
        }
      ]
    },
    {
      "cell_type": "code",
      "source": [
        "with open('results.txt', 'r') as file:\n",
        "    content = file.read()\n",
        "\n",
        "print(content)"
      ],
      "metadata": {
        "colab": {
          "base_uri": "https://localhost:8080/"
        },
        "id": "rtvBGKsu65Ng",
        "outputId": "0d88ea38-d646-4898-a1ed-499c7730b70d"
      },
      "execution_count": 4,
      "outputs": [
        {
          "output_type": "stream",
          "name": "stdout",
          "text": [
            "Text: I love this product! It's amazing.\n",
            "Sentiment: Positive (Polarity: 0.6125, Subjectivity: 0.75)\n",
            "\n",
            "Text: This is the worst service I have ever received.\n",
            "Sentiment: Negative (Polarity: -1.0, Subjectivity: 1.0)\n",
            "\n",
            "Text: I'm not sure how I feel about this.\n",
            "Sentiment: Negative (Polarity: -0.25, Subjectivity: 0.8888888888888888)\n",
            "\n",
            "Text: Absolutely fantastic experience!\n",
            "Sentiment: Positive (Polarity: 0.5, Subjectivity: 0.9)\n",
            "\n",
            "Text: It was okay, nothing special.\n",
            "Sentiment: Positive (Polarity: 0.4285714285714286, Subjectivity: 0.5357142857142857)\n",
            "\n",
            "\n"
          ]
        }
      ]
    },
    {
      "cell_type": "code",
      "source": [],
      "metadata": {
        "id": "HPyLLEnF7BO7"
      },
      "execution_count": null,
      "outputs": []
    }
  ]
}